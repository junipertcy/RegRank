{
 "cells": [
  {
   "cell_type": "code",
   "execution_count": 6,
   "metadata": {},
   "outputs": [
    {
     "name": "stdout",
     "output_type": "stream",
     "text": [
      "The autoreload extension is already loaded. To reload it, use:\n",
      "  %reload_ext autoreload\n"
     ]
    }
   ],
   "source": [
    "%load_ext autoreload\n",
    "%autoreload 2\n",
    "\n",
    "import sys\n",
    "\n",
    "sys.path.append(\"..\")\n",
    "\n",
    "import regrank as rr"
   ]
  },
  {
   "cell_type": "code",
   "execution_count": 4,
   "metadata": {},
   "outputs": [
    {
     "name": "stdout",
     "output_type": "stream",
     "text": [
      "<Graph object, directed, with 2278 vertices and 6390340 edges, 11 internal vertex properties, 18 internal edge properties, 5 internal graph properties, at 0x756aeef29c50>\n"
     ]
    }
   ],
   "source": [
    "g = rr.datasets.us_air_traffic()\n",
    "# g = sr.datasets.at_migrations()\n",
    "# g = sr.datasets.parakeet()\n",
    "print(g)"
   ]
  },
  {
   "cell_type": "code",
   "execution_count": 3,
   "metadata": {},
   "outputs": [
    {
     "name": "stdout",
     "output_type": "stream",
     "text": [
      "name                      (graph)   (type: string, val: us_air_traffic)\n",
      "description               (graph)   (type: string, val: Yearly snapshots of\n",
      "                                                        flights among all\n",
      "                                                        commercial airports in\n",
      "                                                        the United States from\n",
      "                                                        1990 to today. Metadata\n",
      "                                                        include passengers,\n",
      "                                                        distance, carrier,\n",
      "                                                        airport located city,\n",
      "                                                        state, and month of the\n",
      "                                                        flight.)\n",
      "citation                  (graph)   (type: string, val: ['Bureau of\n",
      "                                                        Transportation\n",
      "                                                        Statistics. “T-100\n",
      "                                                        Domestic Market”. https\n",
      "                                                        ://www.transtats.bts.go\n",
      "                                                        v/DL_SelectFields.asp?T\n",
      "                                                        able_ID=310 (2017), htt\n",
      "                                                        ps://www.transtats.bts.\n",
      "                                                        gov/DL_SelectFields.asp\n",
      "                                                        ?Table_ID=310'])\n",
      "url                       (graph)   (type: string, val: https://www.transtats.b\n",
      "                                                        ts.gov/DL_SelectFields.\n",
      "                                                        asp?Table_ID=310)\n",
      "tags                      (graph)   (type: vector<string>, val: ['Transportatio\n",
      "                                                                n', 'Airport',\n",
      "                                                                'Unweighted',\n",
      "                                                                'Metadata',\n",
      "                                                                'Temporal'])\n",
      "_pos                      (vertex)  (type: vector<double>)\n",
      "airport_code              (vertex)  (type: string)\n",
      "airport_id                (vertex)  (type: int16_t)\n",
      "airport_seq_id            (vertex)  (type: int32_t)\n",
      "city_market_id            (vertex)  (type: int32_t)\n",
      "city_name                 (vertex)  (type: string)\n",
      "origin                    (vertex)  (type: string)\n",
      "state_abr                 (vertex)  (type: string)\n",
      "state_fips                (vertex)  (type: string)\n",
      "state_nm                  (vertex)  (type: string)\n",
      "wac                       (vertex)  (type: int16_t)\n",
      "airline_id                (edge)    (type: string)\n",
      "carrier                   (edge)    (type: string)\n",
      "carrier_group             (edge)    (type: int16_t)\n",
      "carrier_group_new         (edge)    (type: string)\n",
      "carrier_name              (edge)    (type: string)\n",
      "class                     (edge)    (type: string)\n",
      "distance                  (edge)    (type: int16_t)\n",
      "distance_group            (edge)    (type: int16_t)\n",
      "freight                   (edge)    (type: double)\n",
      "mail                      (edge)    (type: int32_t)\n",
      "month                     (edge)    (type: int16_t)\n",
      "passengers                (edge)    (type: int32_t)\n",
      "quarter                   (edge)    (type: int16_t)\n",
      "region                    (edge)    (type: string)\n",
      "unique_carrier            (edge)    (type: string)\n",
      "unique_carrier_entity     (edge)    (type: string)\n",
      "unique_carrier_name       (edge)    (type: string)\n",
      "year                      (edge)    (type: int16_t)\n"
     ]
    }
   ],
   "source": [
    "g.list_properties()"
   ]
  },
  {
   "cell_type": "code",
   "execution_count": 6,
   "metadata": {},
   "outputs": [
    {
     "name": "stdout",
     "output_type": "stream",
     "text": [
      "Iter.  Objective Stepsize\n",
      "-----  --------- --------\n",
      "    0  -3.17e+06  1.00e+00\n",
      "   31  -3.17e+06  4.11e+00\n",
      "==  Quitting due to stagnating objective value  ==\n"
     ]
    }
   ],
   "source": [
    "model = rr.SpringRank(method=\"annotated\")\n",
    "result = model.fit(g, alpha=1, lambd=0.5, goi=\"state_abr\")"
   ]
  },
  {
   "cell_type": "code",
   "execution_count": 7,
   "metadata": {},
   "outputs": [],
   "source": [
    "summary = model.compute_summary(g, \"state_abr\", primal_s=result[\"primal\"])"
   ]
  },
  {
   "cell_type": "code",
   "execution_count": 8,
   "metadata": {},
   "outputs": [
    {
     "data": {
      "image/png": "[encoded data removed]",
      "text/plain": [
       "<Figure size 640x480 with 1 Axes>"
      ]
     },
     "metadata": {},
     "output_type": "display_data"
    }
   ],
   "source": [
    "rr.plot_hist(summary, saveto=\"us_air_traffic_hist.png\")"
   ]
  },
  {
   "cell_type": "code",
   "execution_count": 9,
   "metadata": {},
   "outputs": [
    {
     "name": "stdout",
     "output_type": "stream",
     "text": [
      "+-------+-------+--------+-----------------------------------------+--------+---------+\n",
      "| Group | #Tags | #Nodes | Members                                 |   Mean |     Std |\n",
      "+-------+-------+--------+-----------------------------------------+--------+---------+\n",
      "| 1     |     5 |    825 | CA, WA, OR, TT, AK                      |  0.047 | 1.1e-02 |\n",
      "| 2     |     4 |    206 | TX, MT, PA, ID                          | -0.006 | 4.2e-03 |\n",
      "| 3     |    43 |   1243 | MI, IN, TN, NC, VA, IL, CO, NH, CT, NY, | -0.035 | 4.3e-03 |\n",
      "|       |       |        | FL, MA, ME, UT, PR, NM, MN, MD, NE, AL, |        |         |\n",
      "|       |       |        | HI, KY, MO, LA, MS, SD, IA, GA, AR, ND, |        |         |\n",
      "|       |       |        | NV, RI, OH, NJ, WV, OK, DE, WI, VT, AZ, |        |         |\n",
      "|       |       |        | SC, KS, WY                              |        |         |\n",
      "| 4     |     1 |      4 | VI                                      | -0.072 | 0.0e+00 |\n",
      "+-------+-------+--------+-----------------------------------------+--------+---------+\n"
     ]
    }
   ],
   "source": [
    "rr.print_summary_table(summary, max_width=40)"
   ]
  },
  {
   "cell_type": "code",
   "execution_count": null,
   "metadata": {},
   "outputs": [],
   "source": []
  }
 ],
 "metadata": {
  "kernelspec": {
   "display_name": "rSpringRank-dev",
   "language": "python",
   "name": "python3"
  },
  "language_info": {
   "codemirror_mode": {
    "name": "ipython",
    "version": 3
   },
   "file_extension": ".py",
   "mimetype": "text/x-python",
   "name": "python",
   "nbconvert_exporter": "python",
   "pygments_lexer": "ipython3",
   "version": "3.11.8"
  }
 },
 "nbformat": 4,
 "nbformat_minor": 2
}
