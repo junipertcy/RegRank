{
 "cells": [
  {
   "cell_type": "code",
   "execution_count": 1,
   "metadata": {},
   "outputs": [],
   "source": [
    "%load_ext autoreload\n",
    "%autoreload 2\n",
    "\n",
    "from math import comb\n",
    "from scipy.sparse.linalg import inv, aslinearoperator, lsqr\n",
    "\n",
    "from reg_sr.utils import *\n",
    "from reg_sr.losses import *\n",
    "from reg_sr.regularizers import *\n",
    "from reg_sr.firstOrderMethods import gradientDescent\n",
    "\n",
    "import reg_sr"
   ]
  },
  {
   "cell_type": "code",
   "execution_count": 2,
   "metadata": {},
   "outputs": [],
   "source": [
    "# pde = PhDExchange()\n",
    "# g = pde.get_data(annot=\"c18basic\")\n",
    "# g = pde.get_data(annot=\"sector\")\n",
    "# g = pde.get_data(annot=\"stabbr\")\n",
    "# g.save(\"graph_for_debugging.gt\", fmt=\"gt\")\n",
    "g = gt.load_graph(\"graph_for_debugging.gt\")\n"
   ]
  },
  {
   "cell_type": "code",
   "execution_count": 3,
   "metadata": {},
   "outputs": [
    {
     "name": "stdout",
     "output_type": "stream",
     "text": [
      "<GraphView object, directed, with 41 vertices and 357 edges, 1 internal vertex property, edges filtered by (<EdgePropertyMap object with value type 'bool', for Graph 0x7f41f0587a00, at 0x7f40a5d9db70>, False), vertices filtered by (<VertexPropertyMap object with value type 'bool', for Graph 0x7f41f0587a00, at 0x7f40a5d9e020>, False), at 0x7f41f0587a00>\n"
     ]
    }
   ],
   "source": [
    "# Just make the graph smaller for debugging\n",
    "np.random.seed(0)\n",
    "u = gt.GraphView(g, vfilt=lambda v: np.random.rand(1) > 0.8)\n",
    "\n",
    "B, b = cast2sum_squares_form(u, alpha=1)\n",
    "print(u)"
   ]
  },
  {
   "cell_type": "code",
   "execution_count": 4,
   "metadata": {},
   "outputs": [],
   "source": [
    "num_classes = len(set(np.array(list(u.vp[\"class\"]))))\n",
    "num_pairs_classes = comb(num_classes, 2)\n",
    "\n",
    "sslc = sum_squared_loss_conj()\n",
    "sslc.setup(u, alpha=1)\n",
    "\n",
    "f = lambda x: sslc.evaluate(x)\n",
    "grad = lambda x: sslc.prox(x)\n",
    "prox = lambda x, t: same_mean_reg(tau=1).prox(x, t)\n",
    "prox_fcn = lambda x: same_mean_reg(tau=1).evaluate(x)\n",
    "\n",
    "x0 = np.random.rand(num_pairs_classes, 1)"
   ]
  },
  {
   "cell_type": "code",
   "execution_count": 5,
   "metadata": {},
   "outputs": [
    {
     "name": "stdout",
     "output_type": "stream",
     "text": [
      "Iter.  Objective Stepsize\n",
      "-----  --------- --------\n",
      "    0  -9.61e+01  2.33e-01\n",
      " 5000  -8.27e+01  1.66e+00\n",
      "10000  -8.27e+01  1.59e+00\n",
      "15000  -8.27e+01  1.68e+00\n",
      "20000  -8.27e+01  1.61e+00\n",
      "25000  -8.27e+01  1.72e+00\n",
      "30000  -8.27e+01  1.65e+00\n",
      "35000  -8.27e+01  1.74e+00\n",
      "40000  -8.27e+01  1.67e+00\n",
      "45000  -8.27e+01  1.60e+00\n",
      "50000  -8.27e+01  1.70e+00\n",
      "55000  -8.27e+01  1.63e+00\n",
      "60000  -8.27e+01  1.72e+00\n",
      "65000  -8.27e+01  1.65e+00\n",
      "70000  -8.27e+01  1.58e+00\n",
      "75000  -8.27e+01  1.69e+00\n",
      "80000  -8.27e+01  1.62e+00\n",
      "85000  -8.27e+01  1.71e+00\n",
      "90000  -8.27e+01  1.64e+00\n",
      "95000  -8.27e+01  1.74e+00\n",
      "100000  -8.27e+01  1.67e+00\n",
      "100000  -8.27e+01  1.67e+00\n",
      "==  Reached max iterations  ==\n",
      "xNew: [[-1.  1.  1.  1.  1.  1.  1.  1.  1.  1.]]\n"
     ]
    }
   ],
   "source": [
    "Lip_c = sslc.find_Lipschitz_constant()\n",
    "xNew, data = gradientDescent(\n",
    "    f,\n",
    "    grad,\n",
    "    x0,\n",
    "    prox=prox,\n",
    "    prox_obj=prox_fcn,\n",
    "    stepsize=Lip_c ** -1,\n",
    "    printEvery=5000,\n",
    "    maxIters=1e5,\n",
    "    tol=1e-16,  # orig 1e-14\n",
    "    saveHistory=True,\n",
    "    linesearch=True,\n",
    "    acceleration=False,\n",
    "    restart=50\n",
    ")\n",
    "\n",
    "print(f\"xNew: {xNew.T}\")"
   ]
  },
  {
   "cell_type": "code",
   "execution_count": 11,
   "metadata": {},
   "outputs": [],
   "source": [
    "ell = compute_ell(g, \"class\")"
   ]
  },
  {
   "cell_type": "code",
   "execution_count": 9,
   "metadata": {},
   "outputs": [
    {
     "name": "stdout",
     "output_type": "stream",
     "text": [
      "class          (vertex)  (type: string)\n"
     ]
    }
   ],
   "source": [
    "g.list_properties()"
   ]
  },
  {
   "cell_type": "code",
   "execution_count": null,
   "metadata": {},
   "outputs": [],
   "source": []
  }
 ],
 "metadata": {
  "kernelspec": {
   "display_name": "reg-sr",
   "language": "python",
   "name": "python3"
  },
  "language_info": {
   "codemirror_mode": {
    "name": "ipython",
    "version": 3
   },
   "file_extension": ".py",
   "mimetype": "text/x-python",
   "name": "python",
   "nbconvert_exporter": "python",
   "pygments_lexer": "ipython3",
   "version": "3.10.11"
  },
  "orig_nbformat": 4
 },
 "nbformat": 4,
 "nbformat_minor": 2
}
